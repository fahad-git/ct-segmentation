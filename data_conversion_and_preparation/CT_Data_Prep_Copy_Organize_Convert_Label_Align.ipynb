{
 "cells": [
  {
   "cell_type": "markdown",
   "id": "8c94f6b3",
   "metadata": {},
   "source": [
    "# Clone Simplified Data\n",
    "# Organize Data Into Directories\n",
    "# Convert Images\n",
    "# Convert Labels"
   ]
  },
  {
   "cell_type": "code",
   "execution_count": null,
   "id": "5f9e3555",
   "metadata": {},
   "outputs": [],
   "source": [
    "import os\n",
    "import shutil"
   ]
  },
  {
   "cell_type": "code",
   "execution_count": null,
   "id": "9c06bcec",
   "metadata": {},
   "outputs": [],
   "source": [
    "src_dir = f\"[path]\"\n",
    "dest_dir = f\"[path]\""
   ]
  },
  {
   "cell_type": "markdown",
   "id": "f05a9218",
   "metadata": {},
   "source": [
    "## Simple copying files from one folder to other."
   ]
  },
  {
   "cell_type": "markdown",
   "id": "6e99d295",
   "metadata": {},
   "source": [
    "##### This section picks simplified directories which have image and label and make a clone of this directory"
   ]
  },
  {
   "cell_type": "code",
   "execution_count": null,
   "id": "5b673a58",
   "metadata": {},
   "outputs": [],
   "source": [
    "def copy_files(src, dst):\n",
    "    \n",
    "    for root, dirs, files in os.walk(src):\n",
    "        \n",
    "        dest_dir = root.replace(src, dst, 1)\n",
    "        \n",
    "        \n",
    "        if not os.path.exists(dest_dir):\n",
    "            os.makedirs(dest_dir)\n",
    "            \n",
    "            \n",
    "        for file in files:\n",
    "            parent_dir = root.split(\"\\\\\")[-1]\n",
    "            src_file = os.path.join(root, file)\n",
    "            dest_file = os.path.join(dest_dir, file)\n",
    "            shutil.copy2(src_file, dest_file)\n",
    "            print(parent_dir)\n",
    "            print(f'Copied: {src_file} to {dest_file}', end=\"\\n\\n\")"
   ]
  },
  {
   "cell_type": "code",
   "execution_count": null,
   "id": "22a66749",
   "metadata": {
    "scrolled": true
   },
   "outputs": [],
   "source": [
    "\n",
    "# copy_files(src_dir, dest_dir)"
   ]
  },
  {
   "cell_type": "markdown",
   "id": "e84c9aad",
   "metadata": {},
   "source": [
    "## Organizing Folders\n",
    "\n",
    "##### This section picst simplified directory and create a new directory with Organized data"
   ]
  },
  {
   "cell_type": "code",
   "execution_count": null,
   "id": "2046263d",
   "metadata": {},
   "outputs": [],
   "source": [
    "import os\n",
    "import shutil\n",
    "\n",
    "def organize_files(src_dir, dst_dir):\n",
    "    \n",
    "    for root, dirs, files in os.walk(src_dir):\n",
    "        for file in files:\n",
    "            \n",
    "            if not file.lower().endswith('.nii.gz'):\n",
    "                \n",
    "                base_name = os.path.splitext(file)[0]\n",
    "\n",
    "\n",
    "                relative_path = os.path.relpath(root, src_dir)\n",
    "                new_folder_path = os.path.join(dst_dir, relative_path, base_name)\n",
    "\n",
    "\n",
    "                if not os.path.exists(new_folder_path):\n",
    "                    os.makedirs(new_folder_path)\n",
    "\n",
    "\n",
    "                src_file = os.path.join(root, file)\n",
    "                dest_file = os.path.join(new_folder_path, file)\n",
    "                shutil.copy2(src_file, dest_file)\n",
    "                print(f'\\nMoved: {src_file} to {dest_file}')\n",
    "\n",
    "\n",
    "                label_file = f\"{base_name}.nii.gz\"\n",
    "                label_file_path = os.path.join(root, label_file)\n",
    "                if os.path.exists(label_file_path):\n",
    "                    dest_label_file = os.path.join(new_folder_path, label_file)\n",
    "                    shutil.copy2(label_file_path, dest_label_file)\n",
    "                    print(f'Moved label file: {label_file_path} to {dest_label_file}')\n",
    "                else:\n",
    "                    print(f'Label file not found: {label_file_path}')\n",
    "\n",
    "organize_files(src_dir, dest_dir)\n"
   ]
  },
  {
   "cell_type": "markdown",
   "id": "7abd44aa",
   "metadata": {},
   "source": [
    "## Complete Conversion and Saving Code."
   ]
  },
  {
   "cell_type": "code",
   "execution_count": null,
   "id": "4bcc2bb9",
   "metadata": {},
   "outputs": [],
   "source": [
    "import os\n",
    "import subprocess\n",
    "import shutil\n",
    "import nibabel as nib\n",
    "import numpy as np\n",
    "import re\n",
    "\n",
    "def reorient_label_to_match(image_path, label_path, output_label_path):\n",
    "    \"\"\"\n",
    "    Reorients the label NIfTI file to match the orientation of the reference image.\n",
    "\n",
    "    Parameters:\n",
    "        image_path (str): Path to the reference NIfTI file (e.g., converted DICOM).\n",
    "        label_path (str): Path to the label NIfTI file to be reoriented.\n",
    "        output_label_path (str): Path to save the reoriented label file.\n",
    "    \"\"\"\n",
    "    \n",
    "    image_nii = nib.load(image_path)\n",
    "    label_nii = nib.load(label_path)\n",
    "\n",
    "\n",
    "    image_orientation = nib.aff2axcodes(image_nii.affine)\n",
    "    label_orientation = nib.aff2axcodes(label_nii.affine)\n",
    "\n",
    "    print(\"Image Orientation:\", image_orientation)\n",
    "    print(\"Label Orientation:\", label_orientation)\n",
    "\n",
    "\n",
    "    ornt_transform = nib.orientations.ornt_transform(\n",
    "        nib.orientations.axcodes2ornt(label_orientation),\n",
    "        nib.orientations.axcodes2ornt(image_orientation)\n",
    "    )\n",
    "\n",
    "\n",
    "    label_data = label_nii.get_fdata()\n",
    "    label_affine = label_nii.affine\n",
    "\n",
    "    reoriented_label_data = nib.orientations.apply_orientation(label_data, ornt_transform)\n",
    "    reoriented_label_affine = label_affine @ nib.orientations.inv_ornt_aff(ornt_transform, label_data.shape)\n",
    "\n",
    "    reoriented_label_nii = nib.Nifti1Image(reoriented_label_data, reoriented_label_affine)\n",
    "    nib.save(reoriented_label_nii, output_label_path)\n",
    "\n",
    "    print(f\"Reoriented label saved to: {output_label_path}\", end=\"\\n\\n\")\n",
    "\n",
    "    \n",
    "def convert_dicom_to_nifti(dicom_dir, output_dir, output_filename):\n",
    "    command = f'dcm2niix -o \"{output_dir}\" -f \"{output_filename}\" -z y \"{dicom_dir}\"'\n",
    "    print(f\"Running Command: {command}\")\n",
    "    result = subprocess.run(command, shell=True, stdout=subprocess.PIPE, stderr=subprocess.PIPE, text=True)\n",
    "\n",
    "    print(\"STDOUT:\", result.stdout)\n",
    "    print(\"STDERR:\", result.stderr)\n",
    "\n",
    "\n",
    "    \n",
    "def get_nifti_filename(directory):\n",
    "    \"\"\"\n",
    "    Read file name that is saved recently\n",
    "    \"\"\"\n",
    "    \n",
    "    nifti_files = [f for f in os.listdir(directory) if f.endswith('.nii.gz')]\n",
    "\n",
    "    if not nifti_files:\n",
    "        print(\"No .nii.gz file found in the directory.\")\n",
    "        return None\n",
    "    \n",
    "    nifti_file = nifti_files[0]\n",
    "    print(f\"Found NIfTI file: {nifti_file}\")\n",
    "    return nifti_file    \n",
    "    \n",
    "\n",
    "\n",
    "def process_folders(root_dir, output_base_dir):\n",
    "    \n",
    "    for root, dirs, files in os.walk(root_dir):\n",
    "        for file in files:\n",
    "            \n",
    "            if not file.lower().endswith('.nii.gz'):\n",
    "\n",
    "                dicom_filename = file\n",
    "                label_filename = f\"{dicom_filename}.nii.gz\"\n",
    "\n",
    "                dicom_dir = os.path.join(root, dicom_filename)\n",
    "                label_file = os.path.join(root, label_filename)\n",
    "\n",
    "                relative_path = os.path.relpath(root, root_dir)\n",
    "                output_dir = os.path.join(output_base_dir, relative_path)\n",
    "                \n",
    "                if not os.path.exists(output_dir):\n",
    "                    os.makedirs(output_dir)\n",
    "\n",
    "                parent_dir = root.split(\"\\\\\")[-2]\n",
    "\n",
    "                output_filename = dicom_filename\n",
    "                output_filename = f\"{dicom_filename}_{parent_dir}_%s_%t_%i_%z\"\n",
    "                convert_dicom_to_nifti(dicom_dir, output_dir, output_filename)\n",
    "                converted_file_name = get_nifti_filename(output_dir)\n",
    "                \n",
    "                if os.path.exists(label_file):\n",
    "                    dest_img_file = os.path.join(output_dir, converted_file_name)\n",
    "                    dest_label_file = os.path.join(output_dir, label_filename)\n",
    "                    reorient_label_to_match(dest_img_file, label_file, dest_label_file)\n",
    "                    print(f\"Re-oriented label is saved to {dest_label_file}\")\n",
    "                else:\n",
    "                    print(f\"Label file not found: {label_file}\")\n",
    "\n",
    "        \n",
    "root_dir = f\"[path]\"\n",
    "output_base_dir = f\"[path]\"\n",
    "\n",
    "process_folders(root_dir, output_base_dir)\n"
   ]
  },
  {
   "cell_type": "code",
   "execution_count": null,
   "id": "57e0c2c7",
   "metadata": {},
   "outputs": [],
   "source": []
  }
 ],
 "metadata": {
  "kernelspec": {
   "display_name": "Python 3 (ipykernel)",
   "language": "python",
   "name": "python3"
  },
  "language_info": {
   "codemirror_mode": {
    "name": "ipython",
    "version": 3
   },
   "file_extension": ".py",
   "mimetype": "text/x-python",
   "name": "python",
   "nbconvert_exporter": "python",
   "pygments_lexer": "ipython3",
   "version": "3.11.8"
  }
 },
 "nbformat": 4,
 "nbformat_minor": 5
}
