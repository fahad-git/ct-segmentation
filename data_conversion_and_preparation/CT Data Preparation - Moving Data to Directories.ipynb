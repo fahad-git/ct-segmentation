{
 "cells": [
  {
   "cell_type": "markdown",
   "id": "b6ca2e83",
   "metadata": {},
   "source": [
    "# Copying all images to images directory and all labels to labels directory"
   ]
  },
  {
   "cell_type": "code",
   "execution_count": null,
   "id": "ab4a6602",
   "metadata": {},
   "outputs": [],
   "source": [
    "import os\n",
    "import shutil\n",
    "import jsonlines"
   ]
  },
  {
   "cell_type": "code",
   "execution_count": null,
   "id": "e3ae0017",
   "metadata": {},
   "outputs": [],
   "source": [
    "root_dir = f\"[path]\"\n",
    "data_dir = f\"[path]\"\n",
    "split_dir = f\"[path]\""
   ]
  },
  {
   "cell_type": "markdown",
   "id": "91088d0b",
   "metadata": {},
   "source": [
    "## This code move images to images folder and label after renaming same as image name to label folder"
   ]
  },
  {
   "cell_type": "code",
   "execution_count": null,
   "id": "599e103e",
   "metadata": {},
   "outputs": [],
   "source": [
    "def prepare_training_data(root_dir, output_dir):\n",
    "\n",
    "    images_dir = os.path.join(output_dir, 'images')\n",
    "    labels_dir = os.path.join(output_dir, 'labels')\n",
    "    os.makedirs(images_dir, exist_ok=True)\n",
    "    os.makedirs(labels_dir, exist_ok=True)\n",
    "\n",
    "    for root, dirs, files in os.walk(root_dir):\n",
    "        for file in files:\n",
    "            file_path = os.path.join(root, file)\n",
    "            \n",
    "            if file.lower().endswith('.json'):\n",
    "                continue\n",
    "            if file.lower().startswith('im') and file.lower().count('_') == 0:\n",
    "                \n",
    "                \n",
    "                label_name = file\n",
    "                for i in files:\n",
    "                    \n",
    "                    if i.lower().endswith('.json'):\n",
    "                        continue\n",
    "                    if i.lower().startswith('im') and i.lower().count('_') == 0:\n",
    "                        continue\n",
    "                    elif i.lower().endswith('.nii.gz'):\n",
    "                        label_name = i\n",
    "                        \n",
    "                    \n",
    "                shutil.copy(file_path, os.path.join(labels_dir, label_name))\n",
    "                print(f\"Copied label: {file_path} to {labels_dir}\")\n",
    "            elif file.lower().endswith('.nii.gz'):\n",
    "                \n",
    "                shutil.copy(file_path, os.path.join(images_dir, file))\n",
    "                print(f\"Copied image: {file_path} to {images_dir}\")"
   ]
  },
  {
   "cell_type": "code",
   "execution_count": null,
   "id": "274b8a53",
   "metadata": {},
   "outputs": [],
   "source": [
    "prepare_training_data(root_dir, data_dir)"
   ]
  },
  {
   "cell_type": "markdown",
   "id": "28d69a1b",
   "metadata": {},
   "source": [
    "### Showing list images for split instances."
   ]
  },
  {
   "cell_type": "code",
   "execution_count": null,
   "id": "5c54f662",
   "metadata": {},
   "outputs": [],
   "source": [
    "data = os.listdir(data_dir + \"/images\")\n",
    "data"
   ]
  },
  {
   "cell_type": "markdown",
   "id": "48dd9f74",
   "metadata": {},
   "source": [
    "### Count contrast and non-contrast images."
   ]
  },
  {
   "cell_type": "code",
   "execution_count": null,
   "id": "bcd88fc6",
   "metadata": {},
   "outputs": [],
   "source": [
    "def count_constrast(data):\n",
    "    n = len(data)\n",
    "    count = 0\n",
    "    for i in data:\n",
    "        if \"Non-Contrast\" in i:\n",
    "            count += 1     \n",
    "    print(f\"Total Images are {n}\")\n",
    "    print(f\"Contrast images are {n-count}\")\n",
    "    print(f\"Non-Contrast images are {count}\")"
   ]
  },
  {
   "cell_type": "markdown",
   "id": "f2ca8270",
   "metadata": {},
   "source": [
    "## Spliting data into train, test, and validation into 70:15:15 ratio with equal participation of contrast and non-contrast instances."
   ]
  },
  {
   "cell_type": "code",
   "execution_count": null,
   "id": "b57f3f30",
   "metadata": {},
   "outputs": [],
   "source": [
    "import pandas as pd\n",
    "from sklearn.model_selection import train_test_split\n",
    "\n",
    "contrast_files = [file for file in data if '_Contrast' in file]\n",
    "non_contrast_files = [file for file in data if 'Non-Contrast' in file]\n",
    "\n",
    "\n",
    "c_df = pd.DataFrame(contrast_files)\n",
    "\n",
    "nc_df = pd.DataFrame(non_contrast_files)\n",
    "\n",
    "\n",
    "train_c_df, temp_df = train_test_split(c_df, test_size=0.3, random_state=42)\n",
    "val_c_df, test_c_df = train_test_split(temp_df, test_size=0.5, random_state=42)\n",
    "\n",
    "\n",
    "train_df, temp_df = train_test_split(nc_df, test_size=0.3, random_state=42)\n",
    "val_df, test_df = train_test_split(temp_df, test_size=0.5, random_state=42)\n",
    "\n",
    "train_df = pd.concat([train_df, train_c_df])\n",
    "val_df = pd.concat([val_df, val_c_df])\n",
    "test_df = pd.concat([test_df, test_c_df])\n",
    "\n",
    "\n",
    "train_df.to_excel('train_images.xlsx', index=False)\n",
    "val_df.to_excel('val_images.xlsx', index=False)\n",
    "test_df.to_excel('test_images.xlsx', index=False)\n",
    "\n",
    "\n",
    "train_df.to_json('train_images.jsonl', orient='records', lines=True)\n",
    "val_df.to_json('val_images.jsonl', orient='records', lines=True)\n",
    "test_df.to_json('test_images.jsonl', orient='records', lines=True)\n",
    "\n",
    "print(\"Data has been split and saved into JSON and JSONL files.\")\n"
   ]
  },
  {
   "cell_type": "markdown",
   "id": "78dba005",
   "metadata": {},
   "source": [
    "### Contrast and Non-contrast count."
   ]
  },
  {
   "cell_type": "code",
   "execution_count": null,
   "id": "94854300",
   "metadata": {},
   "outputs": [],
   "source": [
    "print(f\"Total Instances Split:\")\n",
    "count_constrast(data)\n",
    "\n",
    "print(\"\\nTraining Data Split:\")\n",
    "count_constrast(list(train_df[0]))\n",
    "\n",
    "print(\"\\nValidation Data Split:\")\n",
    "count_constrast(list(val_df[0]))\n",
    "\n",
    "print(\"\\nTest Data Split:\")\n",
    "count_constrast(list(test_df[0]))"
   ]
  },
  {
   "cell_type": "markdown",
   "id": "feaa6abf",
   "metadata": {},
   "source": [
    "## Copying files and per train, val, and test instances split."
   ]
  },
  {
   "cell_type": "code",
   "execution_count": null,
   "id": "f3251edf",
   "metadata": {},
   "outputs": [],
   "source": [
    "\n",
    "source_img_dir = f'{data_dir}\\\\images'\n",
    "source_label_dir = f'{data_dir}\\\\labels'\n",
    "train_dir = f'{split_dir}\\\\train'\n",
    "val_dir =  f'{split_dir}\\\\val'\n",
    "test_dir =  f'{split_dir}\\\\test'\n",
    "\n",
    "\n",
    "os.makedirs(f\"{train_dir}\\\\images\", exist_ok=True)\n",
    "os.makedirs(f\"{val_dir}\\\\images\", exist_ok=True)\n",
    "os.makedirs(f\"{test_dir}\\\\images\", exist_ok=True)\n",
    "\n",
    "\n",
    "os.makedirs(f\"{train_dir}\\\\labels\", exist_ok=True)\n",
    "os.makedirs(f\"{val_dir}\\\\labels\", exist_ok=True)\n",
    "os.makedirs(f\"{test_dir}\\\\labels\", exist_ok=True)\n",
    "\n",
    "\n",
    "def copy_images(file_list, target_dir):\n",
    "    with jsonlines.open(file_list) as reader:\n",
    "        for obj in reader:\n",
    "            \n",
    "            img_name = obj['0']  \n",
    "            src_img_path = os.path.join(source_img_dir, img_name)\n",
    "            src_label_path = os.path.join(source_label_dir, img_name)\n",
    "\n",
    "            dst_img_path = os.path.join(target_dir, \"images\", img_name)\n",
    "            dst_label_path = os.path.join(target_dir, \"labels\", img_name)\n",
    "\n",
    "            if os.path.exists(src_img_path) and os.path.exists(src_label_path):\n",
    "                print(f\"Copying image from {src_img_path} to {dst_img_path}\")\n",
    "                print(f\"Copying label from {src_label_path} to {dst_label_path}\", end=\"\\n\\n\")\n",
    "            \n",
    "                shutil.copy(src_img_path, dst_img_path)\n",
    "                shutil.copy(src_label_path, dst_label_path)\n",
    "            else:\n",
    "                print(f\"Warning: {src_img_path} or {src_label_path} does not exist.\")\n",
    "\n",
    "\n",
    "copy_images('train_images.jsonl', train_dir)\n",
    "copy_images('val_images.jsonl', val_dir)\n",
    "copy_images('test_images.jsonl', test_dir)\n",
    "\n",
    "print(\"Image copying completed.\")\n"
   ]
  },
  {
   "cell_type": "code",
   "execution_count": null,
   "id": "42f6df8b",
   "metadata": {},
   "outputs": [],
   "source": []
  }
 ],
 "metadata": {
  "kernelspec": {
   "display_name": "Python 3 (ipykernel)",
   "language": "python",
   "name": "python3"
  },
  "language_info": {
   "codemirror_mode": {
    "name": "ipython",
    "version": 3
   },
   "file_extension": ".py",
   "mimetype": "text/x-python",
   "name": "python",
   "nbconvert_exporter": "python",
   "pygments_lexer": "ipython3",
   "version": "3.11.8"
  }
 },
 "nbformat": 4,
 "nbformat_minor": 5
}
