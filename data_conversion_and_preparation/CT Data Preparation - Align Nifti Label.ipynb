{
 "cells": [
  {
   "cell_type": "markdown",
   "id": "88c310e6",
   "metadata": {},
   "source": [
    "## Loading NiBabel for Loading NIFTI Files"
   ]
  },
  {
   "cell_type": "code",
   "execution_count": null,
   "id": "3100e532",
   "metadata": {},
   "outputs": [],
   "source": [
    "import nibabel as nib\n",
    "import os\n",
    "import SimpleITK as sitk\n",
    "import shutil"
   ]
  },
  {
   "cell_type": "markdown",
   "id": "5d8195d4",
   "metadata": {},
   "source": [
    "## Copying all the labels"
   ]
  },
  {
   "cell_type": "code",
   "execution_count": null,
   "id": "60172019",
   "metadata": {},
   "outputs": [],
   "source": [
    "def copy_labels(src, dst):\n",
    "\n",
    "    for root, dirs, files in os.walk(src):\n",
    "        \n",
    "        dest_dir = root.replace(src, dst, 1)\n",
    "        \n",
    "        if not os.path.exists(dest_dir):\n",
    "            os.makedirs(dest_dir)\n",
    "            \n",
    "        for file in files:\n",
    "            if file.lower().endswith('.nii.gz'):\n",
    "                src_file = os.path.join(root, file)\n",
    "                dest_file = os.path.join(dest_dir, file)\n",
    "                shutil.copy2(src_file, dest_file)\n",
    "                print(f'Copied: {src_file} to {dest_file}', end=\"\\n\\n\")"
   ]
  },
  {
   "cell_type": "code",
   "execution_count": null,
   "id": "dd087193",
   "metadata": {},
   "outputs": [],
   "source": [
    "src = f\"[path]\"\n",
    "dest = f\"[path]\"\n",
    "copy_labels(src, dest)"
   ]
  },
  {
   "cell_type": "markdown",
   "id": "622aca2e",
   "metadata": {},
   "source": [
    "### Setting path for printing header information for converted CT image and NIFTI label."
   ]
  },
  {
   "cell_type": "code",
   "execution_count": null,
   "id": "b53057ec",
   "metadata": {},
   "outputs": [],
   "source": [
    "img = f\"[path]\"\n",
    "label = f\"[path]\"\n",
    "\n",
    "labelx = f\"[path]\""
   ]
  },
  {
   "cell_type": "code",
   "execution_count": null,
   "id": "576bff5a",
   "metadata": {},
   "outputs": [],
   "source": [
    "\n",
    "nifti_image = nib.load(img)\n",
    "label_image = nib.load(label)\n",
    "\n",
    "print(\"=============== Header =================\")\n",
    "print(nifti_image.header)\n",
    "print(\"=============== Label =================\")\n",
    "print(label_image.header)"
   ]
  },
  {
   "cell_type": "markdown",
   "id": "1b01b5ab",
   "metadata": {},
   "source": [
    "## Using Simple ITK for resampling label"
   ]
  },
  {
   "cell_type": "code",
   "execution_count": null,
   "id": "2621bcb0-adda-421f-8f58-93cbe407bfd2",
   "metadata": {},
   "outputs": [],
   "source": [
    "\n",
    "import nibabel as nib\n",
    "import numpy as np\n",
    "from scipy.ndimage import affine_transform, zoom\n",
    "\n",
    "def align_nifti_to_label(nifti_file, label_file, output_file):\n",
    "\n",
    "    nifti_img = nib.load(nifti_file)\n",
    "    label_img = nib.load(label_file)\n",
    "\n",
    "    nifti_data = nifti_img.get_fdata()\n",
    "    nifti_affine = nifti_img.affine\n",
    "    nifti_header = nifti_img.header\n",
    "    \n",
    "    label_data = label_img.get_fdata()\n",
    "    label_affine = label_img.affine\n",
    "    label_header = label_img.header\n",
    "\n",
    "    nifti_pixdim = nifti_header['pixdim'][1:4]\n",
    "    label_pixdim = label_header['pixdim'][1:4]\n",
    "\n",
    "    scale_factors = nifti_pixdim / label_pixdim  \n",
    "    print(f\"Scaling factors: {scale_factors}\")\n",
    "    \n",
    "    resampled_data = zoom(nifti_data, zoom=scale_factors, order=1) \n",
    "    \n",
    "    new_affine = np.copy(nifti_affine)\n",
    "    \n",
    "    new_affine[:3, :3] = label_affine[:3, :3] \n",
    "    new_affine[:3, 3] = label_affine[:3, 3]    \n",
    "    \n",
    "    \n",
    "    aligned_nifti_img = nib.Nifti1Image(resampled_data, new_affine, header=label_header)\n",
    "    \n",
    "    \n",
    "    nib.save(aligned_nifti_img, output_file)\n",
    "    print(f'Aligned NIFTI saved as {output_file}')\n",
    "\n",
    "nifti_file = f\"[path]\"  \n",
    "label_file = f\"[path]\" \n",
    "output_file = f\"[path]\" \n",
    "\n",
    "\n",
    "align_nifti_to_label(nifti_file, label_file, output_file)\n"
   ]
  },
  {
   "cell_type": "code",
   "execution_count": null,
   "id": "84af68d9",
   "metadata": {},
   "outputs": [],
   "source": [
    "\n",
    "def resample_label_to_image(label_file, image_file, output_file):\n",
    "    \n",
    "    print(f\"Loading image {image_file} and label {label_file}\")\n",
    "    label_img = sitk.ReadImage(label_file)\n",
    "    image_img = sitk.ReadImage(image_file)\n",
    "    \n",
    "    print(\"Resampling image label...\")\n",
    "\n",
    "    resampler = sitk.ResampleImageFilter()\n",
    "    resampler.SetSize(image_img.GetSize())\n",
    "    resampler.SetOutputSpacing(image_img.GetSpacing())\n",
    "    resampler.SetOutputOrigin(image_img.GetOrigin())\n",
    "    resampler.SetOutputDirection(image_img.GetDirection())\n",
    "    resampler.SetDefaultPixelValue(0)\n",
    "    resampler.SetTransform(sitk.Transform())  \n",
    "    resampler.SetInterpolator(sitk.sitkNearestNeighbor) \n",
    "    \n",
    "    resampled_label_img = resampler.Execute(label_img)\n",
    "    \n",
    "    sitk.WriteImage(resampled_label_img, output_file)\n",
    "\n",
    "# resample_label_to_image(label, img, label)\n"
   ]
  },
  {
   "cell_type": "markdown",
   "id": "478602ef",
   "metadata": {},
   "source": [
    "## Executing code for all labels."
   ]
  },
  {
   "cell_type": "code",
   "execution_count": null,
   "id": "561409ff",
   "metadata": {},
   "outputs": [],
   "source": [
    "def correct_labels(root_dir):\n",
    "    \n",
    "    for root, dirs, files in os.walk(root_dir):\n",
    "        \n",
    "        label = None\n",
    "        image = None\n",
    "        for file in files:            \n",
    "            \n",
    "            if file.lower().endswith('.json'):\n",
    "                \n",
    "                continue\n",
    "            if file.lower().startswith('im') and file.lower().count('_') == 0:\n",
    "               \n",
    "               label = os.path.join(root, file)\n",
    "            elif file.lower().endswith('.nii.gz'):\n",
    "                \n",
    "                image = os.path.join(root, file)\n",
    "        \n",
    "        if len(files) > 0:\n",
    "            resample_label_to_image(label, image, label)\n",
    "            print(f\"Label saved to {label}\", end=\"\\n\\n\")"
   ]
  },
  {
   "cell_type": "code",
   "execution_count": null,
   "id": "bec91995",
   "metadata": {},
   "outputs": [],
   "source": [
    "root_dir = f\"[path]\"\n",
    "correct_labels(root_dir)"
   ]
  },
  {
   "cell_type": "markdown",
   "id": "cba93edb",
   "metadata": {},
   "source": [
    "### Aligning IM0005 Image Labels"
   ]
  },
  {
   "cell_type": "code",
   "execution_count": null,
   "id": "22507d54",
   "metadata": {},
   "outputs": [],
   "source": [
    "import nibabel as nib\n",
    "import numpy as np\n",
    "import vtk\n",
    "\n",
    "def apply_transform(source, trafo):\n",
    "    if trafo is None:\n",
    "        return source\n",
    "    trafo_filter = vtk.vtkTransformFilter()\n",
    "    trafo_filter.SetInputConnection(source.GetOutputPort())\n",
    "    trafo_filter.SetTransform(trafo)\n",
    "    trafo_filter.Update()\n",
    "    return trafo_filter.GetOutput()\n",
    "\n",
    "def nifti_to_vtk_image(nifti_image):\n",
    "    img_data = nifti_image.get_fdata()\n",
    "    img_shape = img_data.shape\n",
    "    img_vtk = vtk.vtkImageData()\n",
    "    img_vtk.SetDimensions(img_shape)\n",
    "    img_vtk.AllocateScalars(vtk.VTK_FLOAT, 1)\n",
    "    \n",
    "    vtk_array = vtk.util.numpy_support.numpy_to_vtk(img_data.ravel(), deep=True, array_type=vtk.VTK_FLOAT)\n",
    "    img_vtk.GetPointData().SetScalars(vtk_array)\n",
    "    \n",
    "    return img_vtk\n",
    "\n",
    "def vtk_to_nifti(vtk_image, affine):\n",
    "    vtk_array = vtk.vtk_to_numpy(vtk_image.GetPointData().GetScalars())\n",
    "    img_shape = vtk_image.GetDimensions()\n",
    "    img_data = vtk_array.reshape(img_shape[::-1])\n",
    "\n",
    "    return nib.Nifti1Image(img_data, affine)\n",
    "\n",
    "nifti_image = nib.load(img)\n",
    "label_image = nib.load(label)\n",
    "\n",
    "vtk_label_image = nifti_to_vtk_image(label_image)\n",
    "\n",
    "trafo_matrix = nifti_image.affine\n",
    "trafo = vtk.vtkTransform()\n",
    "trafo.SetMatrix(trafo_matrix.flatten())\n",
    "\n",
    "transformed_vtk_image = apply_transform(source=vtk_label_image, trafo=trafo)\n",
    "\n",
    "transformed_nifti_image = vtk_to_nifti(transformed_vtk_image, nifti_image.affine)\n",
    "\n",
    "nib.save(transformed_nifti_image, labelx)\n"
   ]
  },
  {
   "cell_type": "code",
   "execution_count": null,
   "id": "4f818f29",
   "metadata": {},
   "outputs": [],
   "source": []
  }
 ],
 "metadata": {
  "kernelspec": {
   "display_name": "Python 3 (ipykernel)",
   "language": "python",
   "name": "python3"
  },
  "language_info": {
   "codemirror_mode": {
    "name": "ipython",
    "version": 3
   },
   "file_extension": ".py",
   "mimetype": "text/x-python",
   "name": "python",
   "nbconvert_exporter": "python",
   "pygments_lexer": "ipython3",
   "version": "3.11.8"
  }
 },
 "nbformat": 4,
 "nbformat_minor": 5
}
