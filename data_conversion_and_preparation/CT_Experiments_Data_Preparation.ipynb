{
 "cells": [
  {
   "cell_type": "markdown",
   "id": "a86fc0ee",
   "metadata": {},
   "source": [
    "# Data Preprocessing"
   ]
  },
  {
   "cell_type": "markdown",
   "id": "b2f6cce4",
   "metadata": {},
   "source": [
    "## Experiments with CECT & NCCT"
   ]
  },
  {
   "cell_type": "code",
   "execution_count": null,
   "id": "eb73570f",
   "metadata": {},
   "outputs": [],
   "source": [
    "import os\n",
    "import json\n",
    "\n",
    "def generate_directory_structure(main_directory):\n",
    "    structure = {}\n",
    "\n",
    "    for round_name in os.listdir(main_directory):\n",
    "        round_path = os.path.join(main_directory, round_name)\n",
    "        if os.path.isdir(round_path):\n",
    "            structure[round_name] = {}\n",
    "\n",
    "            for control_name in os.listdir(round_path):\n",
    "                control_path = os.path.join(round_path, control_name)\n",
    "                if os.path.isdir(control_path):\n",
    "                    structure[round_name][control_name] = {\n",
    "                        \"Contrast\": {},\n",
    "                        \"Non-Contrast\": {}\n",
    "                    }\n",
    "\n",
    "                    for category in [\"Contrast\", \"Non-Contrast\"]:\n",
    "                        category_path = os.path.join(control_path, category)\n",
    "                        if os.path.exists(category_path):\n",
    "                            for image_id in os.listdir(category_path):\n",
    "                                image_path = os.path.join(category_path, image_id)\n",
    "                                if os.path.isdir(image_path):\n",
    "                                    files = os.listdir(image_path)\n",
    "                                    structure[round_name][control_name][category][image_id] = files\n",
    "\n",
    "    return structure\n",
    "\n",
    "\n",
    "if __name__ == \"__main__\":\n",
    "    main_directory = r\"[path]\" \n",
    "    directory_structure = generate_directory_structure(main_directory)\n",
    "    print(json.dumps(directory_structure, indent=4))\n"
   ]
  },
  {
   "cell_type": "markdown",
   "id": "1f3ab108",
   "metadata": {},
   "source": [
    "## Creating entire dataset structure."
   ]
  },
  {
   "cell_type": "code",
   "execution_count": null,
   "id": "f74129ae",
   "metadata": {},
   "outputs": [],
   "source": [
    "directory_structure"
   ]
  },
  {
   "cell_type": "code",
   "execution_count": null,
   "id": "98b42e30",
   "metadata": {},
   "outputs": [],
   "source": [
    "import shutil\n",
    "\n",
    "def extract_images(main_directory, directory_structure, output_dir, flag=\"both\"):\n",
    "    os.makedirs(output_dir, exist_ok=True)\n",
    "    for round_name, controls in directory_structure.items():\n",
    "        sanitized_round_name = round_name.replace(\" \", \"_\")\n",
    "\n",
    "        for control_name, categories in controls.items():\n",
    "            sanitized_control_name = control_name.replace(\" \", \"_\")\n",
    "\n",
    "            for category, images in categories.items():\n",
    "                sanitized_category = category.replace(\" \", \"_\")\n",
    "\n",
    "                if not (category.lower() == flag.lower() or flag == \"both\"):\n",
    "                    continue\n",
    "\n",
    "                for image_id, files in images.items():\n",
    "                    sanitized_image_id = image_id.replace(\" \", \"_\")\n",
    "                    image_dir = os.path.join(main_directory, round_name, control_name, category, image_id)\n",
    "\n",
    "                    label_file = None\n",
    "                    image_files = []\n",
    "\n",
    "                    for file in files:\n",
    "                        if file.endswith(\".json\"):\n",
    "                            continue \n",
    "\n",
    "                        if file.endswith(\".nii.gz\") and not \"_\" in file:\n",
    "                            label_file = file\n",
    "                        else:\n",
    "                            image_files.append(file)\n",
    "\n",
    "                    if label_file:\n",
    "                        label_dest_dir = os.path.join(output_dir, \"labelsTr\")\n",
    "                        os.makedirs(label_dest_dir, exist_ok=True)\n",
    "                    \n",
    "                        os.makedirs(os.path.join(output_dir, \"imagesTs\"), exist_ok=True)\n",
    "\n",
    "                        src_label = os.path.join(image_dir, label_file)\n",
    "                        dest_label = os.path.join(\n",
    "                            label_dest_dir, f\"{sanitized_round_name}_{sanitized_control_name}_{sanitized_category}_{sanitized_image_id}.nii.gz\"\n",
    "                        )\n",
    "                        shutil.copy(src_label, dest_label)\n",
    "                        print(f\"Copied label: {src_label} to {dest_label}\", end=\"\\n\\n\")\n",
    "\n",
    "                    for image_file in image_files:\n",
    "                        image_dest_dir = os.path.join(output_dir, \"imagesTr\")\n",
    "                        os.makedirs(image_dest_dir, exist_ok=True)\n",
    "\n",
    "                        src_image = os.path.join(image_dir, image_file)\n",
    "                        dest_image = os.path.join(\n",
    "                            image_dest_dir, f\"{sanitized_round_name}_{sanitized_control_name}_{sanitized_category}_{sanitized_image_id}.nii.gz\"\n",
    "                        )\n",
    "                        shutil.copy(src_image, dest_image)\n",
    "                        print(f\"Copied image: {src_image} to {dest_image}\", end=\"\\n\\n\")\n"
   ]
  },
  {
   "cell_type": "markdown",
   "id": "25bf8054",
   "metadata": {},
   "source": [
    "### Json data list"
   ]
  },
  {
   "cell_type": "code",
   "execution_count": null,
   "id": "23f0fbcb",
   "metadata": {},
   "outputs": [],
   "source": [
    "def generate_json(output_dir):\n",
    "    image_dir = os.path.join(output_dir, \"imagesTr\")\n",
    "    label_dir = os.path.join(output_dir, \"labelsTr\")\n",
    "\n",
    "    json_data = []\n",
    "\n",
    "    if os.path.exists(image_dir) and os.path.exists(label_dir):\n",
    "        image_files = os.listdir(image_dir)\n",
    "        label_files = os.listdir(label_dir)\n",
    "\n",
    "        for image_file in image_files:\n",
    "            corresponding_label = image_file.replace(\"_image.nii.gz\", \"_label.nii.gz\")\n",
    "\n",
    "            if corresponding_label in label_files:\n",
    "                json_data.append({\n",
    "                    \"image\": f\"./imagesTr/{image_file}\",\n",
    "                    \"label\": f\"./labelsTr/{corresponding_label}\"\n",
    "                })\n",
    "\n",
    "    print(f\"Total Length: {len(json_data)}\", end=\"\\n\\n\")\n",
    "    print(json.dumps(json_data, indent=4))\n",
    "#     with open(os.path.join(output_dir, \"dataset.json\"), \"w\") as json_file:\n",
    "#         json.dump(json_data, json_file, indent=4)\n",
    "#     print(f\"JSON dataset saved to {os.path.join(output_dir, 'dataset.json')}\")"
   ]
  },
  {
   "cell_type": "markdown",
   "id": "e6f5b776",
   "metadata": {},
   "source": [
    "### Creating a global combined Data"
   ]
  },
  {
   "cell_type": "code",
   "execution_count": null,
   "id": "72baa97a",
   "metadata": {
    "scrolled": true
   },
   "outputs": [],
   "source": [
    "main_dir = r\"[path]\"\n",
    "main_output_dir = r\"[path]\"\n",
    "\n",
    "extract_images(main_dir, directory_structure, main_output_dir, \"both\")"
   ]
  },
  {
   "cell_type": "markdown",
   "id": "e48bf4a8",
   "metadata": {},
   "source": [
    "### Creating Liming Data Structure"
   ]
  },
  {
   "cell_type": "markdown",
   "id": "22257f11",
   "metadata": {},
   "source": [
    "#### Contrast"
   ]
  },
  {
   "cell_type": "code",
   "execution_count": null,
   "id": "098c06ef",
   "metadata": {
    "scrolled": true
   },
   "outputs": [],
   "source": [
    "contrast_output_dir = r\"[path]\"\n",
    "\n",
    "main_dir = r\"[path]\"\n",
    "\n",
    "directory_structure = generate_directory_structure(main_dir)\n",
    "\n",
    "extract_images(main_dir, directory_structure, contrast_output_dir, \"contrast\")"
   ]
  },
  {
   "cell_type": "code",
   "execution_count": null,
   "id": "9eea4f0f",
   "metadata": {
    "scrolled": true
   },
   "outputs": [],
   "source": [
    "generate_json(contrast_output_dir)"
   ]
  },
  {
   "cell_type": "markdown",
   "id": "d61300f7",
   "metadata": {},
   "source": [
    "#### Non-Contrast"
   ]
  },
  {
   "cell_type": "code",
   "execution_count": null,
   "id": "5f8bec1b",
   "metadata": {},
   "outputs": [],
   "source": [
    "\n",
    "non_contrast_output_dir =  r\"[path]\"\n",
    "\n",
    "main_dir = r\"[path]\"\n",
    "\n",
    "directory_structure = generate_directory_structure(main_dir)\n",
    "\n",
    "extract_images(main_dir, directory_structure, non_contrast_output_dir, \"non-contrast\")"
   ]
  },
  {
   "cell_type": "code",
   "execution_count": null,
   "id": "6022b9d4",
   "metadata": {},
   "outputs": [],
   "source": [
    "generate_json(non_contrast_output_dir)"
   ]
  },
  {
   "cell_type": "markdown",
   "id": "55f7ccb5",
   "metadata": {},
   "source": [
    "#### Contrast & Non-Contrast"
   ]
  },
  {
   "cell_type": "code",
   "execution_count": null,
   "id": "1158db09",
   "metadata": {},
   "outputs": [],
   "source": [
    "\n",
    "\n",
    "combined_output_dir =  r\"[path]\"\n",
    "\n",
    "main_dir = r\"[path]\"\n",
    "\n",
    "directory_structure = generate_directory_structure(main_dir)\n",
    "\n",
    "extract_images(main_dir, directory_structure, combined_output_dir, \"both\")"
   ]
  },
  {
   "cell_type": "code",
   "execution_count": null,
   "id": "b34fc267",
   "metadata": {},
   "outputs": [],
   "source": [
    "generate_json(combined_output_dir)"
   ]
  },
  {
   "cell_type": "markdown",
   "id": "e2b6fade",
   "metadata": {},
   "source": [
    "### Testcases"
   ]
  },
  {
   "cell_type": "code",
   "execution_count": null,
   "id": "e93d951b",
   "metadata": {
    "scrolled": true
   },
   "outputs": [],
   "source": [
    "testcases_dir = \"[path]\"\n",
    "\n",
    "generate_json(testcases_dir)"
   ]
  },
  {
   "cell_type": "markdown",
   "id": "dbef6b32",
   "metadata": {},
   "source": [
    "## The End!"
   ]
  },
  {
   "cell_type": "code",
   "execution_count": null,
   "id": "296767f1",
   "metadata": {},
   "outputs": [],
   "source": []
  }
 ],
 "metadata": {
  "kernelspec": {
   "display_name": "segmentation",
   "language": "python",
   "name": "python3"
  },
  "language_info": {
   "codemirror_mode": {
    "name": "ipython",
    "version": 3
   },
   "file_extension": ".py",
   "mimetype": "text/x-python",
   "name": "python",
   "nbconvert_exporter": "python",
   "pygments_lexer": "ipython3",
   "version": "3.8.19"
  }
 },
 "nbformat": 4,
 "nbformat_minor": 5
}
