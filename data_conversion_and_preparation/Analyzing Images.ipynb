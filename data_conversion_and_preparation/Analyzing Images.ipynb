{
 "cells": [
  {
   "cell_type": "code",
   "execution_count": null,
   "id": "d6d79106",
   "metadata": {},
   "outputs": [],
   "source": [
    "import nibabel as nib\n",
    "\n",
    "image_path = r'[path]'\n",
    "seg_path = r'[path]'\n",
    "\n",
    "img = nib.load(image_path)\n",
    "seg = nib.load(seg_path)\n",
    "\n",
    "print(\"Image Spacing:\", img.header.get_zooms())\n",
    "print(\"Segmentation Spacing:\", seg.header.get_zooms())\n"
   ]
  },
  {
   "cell_type": "code",
   "execution_count": null,
   "id": "02f1b365",
   "metadata": {
    "scrolled": true
   },
   "outputs": [],
   "source": [
    "# Print header information\n",
    "print(\"NIfTI Image Orientation:\\n\", nib.aff2axcodes(img.affine))\n",
    "print(\"Label NIfTI Orientation:\\n\", nib.aff2axcodes(seg.affine))"
   ]
  },
  {
   "cell_type": "markdown",
   "id": "2c3e921d",
   "metadata": {},
   "source": [
    "### Matching Space"
   ]
  },
  {
   "cell_type": "code",
   "execution_count": null,
   "id": "a719a3a0",
   "metadata": {
    "scrolled": true
   },
   "outputs": [],
   "source": [
    "import os\n",
    "import nibabel as nib\n",
    "import numpy as np\n",
    "\n",
    "def match_spacing(input_image_folder, input_label_folder, output_image_folder):\n",
    "\n",
    "    os.makedirs(output_image_folder, exist_ok=True)\n",
    "\n",
    "    for image_file in os.listdir(input_image_folder):\n",
    "        if image_file.endswith(\".nii.gz\"):\n",
    "            image_path = os.path.join(input_image_folder, image_file)\n",
    "            label_path = os.path.join(input_label_folder, image_file.replace(\"_0000.nii.gz\", \".nii.gz\")) \n",
    "            output_image_path = os.path.join(output_image_folder, image_file)\n",
    "\n",
    "            if not os.path.exists(label_path):\n",
    "                print(f\"Label file not found for image: {image_file}. Skipping...\")\n",
    "                continue\n",
    "\n",
    "            image = nib.load(image_path)\n",
    "            label = nib.load(label_path)\n",
    "\n",
    "            label_affine = label.affine\n",
    "            label_spacing = np.sqrt(np.sum(label_affine[:3, :3] ** 2, axis=0))\n",
    "\n",
    "            image_affine = image.affine.copy()\n",
    "            image_spacing = np.sqrt(np.sum(image_affine[:3, :3] ** 2, axis=0))\n",
    "\n",
    "            for i in range(3):\n",
    "                scaling_factor = label_spacing[i] / image_spacing[i]\n",
    "                image_affine[:3, i] *= scaling_factor\n",
    "\n",
    "            corrected_image = nib.Nifti1Image(image.get_fdata(), image_affine, header=image.header)\n",
    "            nib.save(corrected_image, output_image_path)\n",
    "\n",
    "            print(f\"Corrected image saved to: {output_image_path}\")\n",
    "\n",
    "input_image_folder = r\"[path]\"\n",
    "input_label_folder = r\"[path]\"\n",
    "output_image_folder = r\"[path]\"\n",
    "\n",
    "match_spacing(input_image_folder, input_label_folder, output_image_folder)\n"
   ]
  },
  {
   "cell_type": "markdown",
   "id": "a9549e8f",
   "metadata": {},
   "source": [
    "### Matching Origin"
   ]
  },
  {
   "cell_type": "code",
   "execution_count": null,
   "id": "b3ae3d40",
   "metadata": {},
   "outputs": [],
   "source": [
    "import os\n",
    "import nibabel as nib\n",
    "import numpy as np\n",
    "\n",
    "def match_origin(input_image_folder, input_label_folder, output_image_folder):\n",
    "\n",
    "    os.makedirs(output_image_folder, exist_ok=True)\n",
    "\n",
    "\n",
    "    for image_file in os.listdir(input_image_folder):\n",
    "        if image_file.endswith(\".nii.gz\"):\n",
    "            image_path = os.path.join(input_image_folder, image_file)\n",
    "            label_path = os.path.join(input_label_folder, image_file.replace(\"_0000.nii.gz\", \".nii.gz\")) \n",
    "            output_image_path = os.path.join(output_image_folder, image_file)\n",
    "\n",
    "            if not os.path.exists(label_path):\n",
    "                print(f\"Label file not found for image: {image_file}. Skipping...\")\n",
    "                continue\n",
    "\n",
    "            image = nib.load(image_path)\n",
    "            label = nib.load(label_path)\n",
    "\n",
    "            # Get and compare origins\n",
    "            image_origin = image.affine[:3, 3]\n",
    "            label_origin = label.affine[:3, 3]\n",
    "\n",
    "            if not np.allclose(image_origin, label_origin):\n",
    "                print(f\"Origin mismatch for {image_file}:\")\n",
    "                print(f\"  Image origin: {image_origin}\")\n",
    "                print(f\"  Label origin: {label_origin}\")\n",
    "\n",
    "                corrected_label_affine = label.affine.copy()\n",
    "                corrected_label_affine[:3, 3] = image_origin\n",
    "\n",
    "                corrected_label = nib.Nifti1Image(label.get_fdata(), corrected_label_affine, header=label.header)\n",
    "                nib.save(corrected_label, label_path)\n",
    "                print(f\"  Corrected label origin saved for {image_file}\")\n",
    "\n",
    "            else:\n",
    "                print(f\"Origins match for {image_file}. No correction needed.\")\n",
    "\n",
    "input_image_folder = r\"[path]\"\n",
    "input_label_folder = r\"[Path]\"\n",
    "output_image_folder = r\"[path]\"\n",
    "\n",
    "match_origin(input_image_folder, input_label_folder, output_image_folder)"
   ]
  },
  {
   "cell_type": "code",
   "execution_count": null,
   "id": "5121ee69",
   "metadata": {},
   "outputs": [],
   "source": []
  }
 ],
 "metadata": {
  "kernelspec": {
   "display_name": "Python 3 (ipykernel)",
   "language": "python",
   "name": "python3"
  },
  "language_info": {
   "codemirror_mode": {
    "name": "ipython",
    "version": 3
   },
   "file_extension": ".py",
   "mimetype": "text/x-python",
   "name": "python",
   "nbconvert_exporter": "python",
   "pygments_lexer": "ipython3",
   "version": "3.11.8"
  }
 },
 "nbformat": 4,
 "nbformat_minor": 5
}
