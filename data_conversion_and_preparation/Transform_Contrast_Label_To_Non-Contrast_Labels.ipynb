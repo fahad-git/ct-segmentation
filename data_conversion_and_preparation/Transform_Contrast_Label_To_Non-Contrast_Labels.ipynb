{
 "cells": [
  {
   "cell_type": "markdown",
   "id": "06554cef",
   "metadata": {},
   "source": [
    "# NIFTI Label Alignment Script"
   ]
  },
  {
   "cell_type": "code",
   "execution_count": null,
   "id": "15a3382f",
   "metadata": {},
   "outputs": [],
   "source": [
    "import os\n",
    "import nibabel as nib\n",
    "import numpy as np\n",
    "\n",
    "def align_label_to_image(image_path, label_path, output_folder):\n",
    "    try:\n",
    "\n",
    "        img = nib.load(image_path)\n",
    "        lbl = nib.load(label_path)\n",
    "\n",
    "        img_data = img.get_fdata()\n",
    "        lbl_data = lbl.get_fdata()\n",
    "\n",
    "  \n",
    "        if lbl_data.shape != img_data.shape:\n",
    "            print(f\"Resizing {os.path.basename(label_path)} from {lbl_data.shape} to {img_data.shape}\")\n",
    "            lbl_data = lbl_data[:, :, :img_data.shape[2]] \n",
    "\n",
    "        lbl_data = np.flip(lbl_data, axis=1)  \n",
    "        lbl_data = np.flip(lbl_data, axis=2) \n",
    "\n",
    "\n",
    "        corrected_affine = img.affine.copy()\n",
    "\n",
    "     \n",
    "        fixed_label = nib.Nifti1Image(lbl_data, corrected_affine, img.header)\n",
    "\n",
    "\n",
    "        output_path = os.path.join(output_folder, os.path.basename(label_path))\n",
    "        nib.save(fixed_label, output_path)\n",
    "        print(f\"Aligned label saved: {output_path}\")\n",
    "\n",
    "    except Exception as e:\n",
    "        print(f\"Error processing {label_path}: {e}\")\n",
    "\n",
    "def process_labels(image_folder, label_folder, output_folder):\n",
    "    if not os.path.exists(output_folder):\n",
    "        os.makedirs(output_folder)\n",
    "\n",
    "  \n",
    "    for label_filename in os.listdir(label_folder):\n",
    "        if label_filename.endswith(\".nii.gz\"):\n",
    "            image_path = os.path.join(image_folder, label_filename.replace(\".nii.gz\", \"_0000.nii.gz\"))\n",
    "            label_path = os.path.join(label_folder, label_filename)\n",
    "\n",
    "            if os.path.exists(image_path):\n",
    "                align_label_to_image(image_path, label_path, output_folder)\n",
    "            else:\n",
    "                print(f\"Skipping {label_filename}: No matching image found in {image_folder}\")\n",
    "\n",
    "image_folder = r\"[base_path]\\imagesTr\"   \n",
    "label_folder = r\"[base_path]\\transformed_label\"  \n",
    "output_folder = r\"[base_path]\\transformed_images\" \n",
    "\n",
    "process_labels(image_folder, label_folder, output_folder)"
   ]
  }
 ],
 "metadata": {
  "kernelspec": {
   "display_name": "Python 3 (ipykernel)",
   "language": "python",
   "name": "python3"
  },
  "language_info": {
   "codemirror_mode": {
    "name": "ipython",
    "version": 3
   },
   "file_extension": ".py",
   "mimetype": "text/x-python",
   "name": "python",
   "nbconvert_exporter": "python",
   "pygments_lexer": "ipython3",
   "version": "3.11.9"
  }
 },
 "nbformat": 4,
 "nbformat_minor": 5
}
